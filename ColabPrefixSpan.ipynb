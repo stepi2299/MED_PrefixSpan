{
 "cells": [
  {
   "cell_type": "markdown",
   "metadata": {
    "id": "ns2jQFA9uhI0"
   },
   "source": [
    "# Connect to Goodle Drive"
   ]
  },
  {
   "cell_type": "code",
   "execution_count": null,
   "metadata": {
    "colab": {
     "base_uri": "https://localhost:8080/"
    },
    "executionInfo": {
     "elapsed": 25466,
     "status": "ok",
     "timestamp": 1716643694594,
     "user": {
      "displayName": "Jakub Stępniak",
      "userId": "11233287394226022162"
     },
     "user_tz": -120
    },
    "id": "xYZLe3e9uhnJ",
    "outputId": "bf8b1028-2e5d-44b6-e4cc-cf690138ab5a"
   },
   "outputs": [],
   "source": [
    "from google.colab import drive\n",
    "drive.mount(\"/content/gdrive\", force_remount=True)"
   ]
  },
  {
   "cell_type": "markdown",
   "metadata": {
    "id": "2WB7ybE1aV0_"
   },
   "source": [
    "# Dependencies"
   ]
  },
  {
   "cell_type": "code",
   "execution_count": null,
   "metadata": {
    "colab": {
     "base_uri": "https://localhost:8080/"
    },
    "executionInfo": {
     "elapsed": 43120,
     "status": "ok",
     "timestamp": 1716643737710,
     "user": {
      "displayName": "Jakub Stępniak",
      "userId": "11233287394226022162"
     },
     "user_tz": -120
    },
    "id": "D903LSF8aCJB",
    "outputId": "44014db0-b794-4ba3-f76a-ec13aabc50f8"
   },
   "outputs": [],
   "source": [
    "!apt-get remove openjdk-* -y\n",
    "!apt-get install openjdk-21-jdk-headless -qq > /dev/null\n",
    "!java -version\n",
    "!pip install spmf\n",
    "\n",
    "from spmf import Spmf\n",
    "from pathlib import Path\n",
    "import logging as lg\n",
    "import os\n",
    "import time\n",
    "import matplotlib.pyplot as plt\n",
    "\n",
    "if not os.path.exists(\"spmf.jar\"):\n",
    "    !wget http://www.philippe-fournier-viger.com/spmf/spmf.jar"
   ]
  },
  {
   "cell_type": "code",
   "execution_count": null,
   "metadata": {
    "executionInfo": {
     "elapsed": 14,
     "status": "ok",
     "timestamp": 1716643737711,
     "user": {
      "displayName": "Jakub Stępniak",
      "userId": "11233287394226022162"
     },
     "user_tz": -120
    },
    "id": "NQfuuUnMfHoE"
   },
   "outputs": [],
   "source": [
    "lg.basicConfig(level=lg.INFO, force=True)\n",
    "logger = lg.getLogger(__name__)"
   ]
  },
  {
   "cell_type": "markdown",
   "metadata": {
    "id": "wx63Aj11dZSh"
   },
   "source": [
    "# Prepare Dataset"
   ]
  },
  {
   "cell_type": "code",
   "execution_count": null,
   "metadata": {
    "executionInfo": {
     "elapsed": 12,
     "status": "ok",
     "timestamp": 1716643737711,
     "user": {
      "displayName": "Jakub Stępniak",
      "userId": "11233287394226022162"
     },
     "user_tz": -120
    },
    "id": "NFRhZpL1dgjj"
   },
   "outputs": [],
   "source": [
    "# Download dataset, unpack it and prepare dataset structure, you can check if already exist this folder there with correct input"
   ]
  },
  {
   "cell_type": "markdown",
   "metadata": {
    "id": "Qv2A_Hzzaaqe"
   },
   "source": [
    "# Parameters\n",
    "possible:\n",
    "['test.txt', 'output', '.ipynb_checkpoints', 'kosorak.txt', 'fifa.txt', 'e_shop.txt', 'BMS1.txt', 'sign.txt', 'microblogPCU.txt']\n"
   ]
  },
  {
   "cell_type": "code",
   "execution_count": null,
   "metadata": {
    "executionInfo": {
     "elapsed": 12,
     "status": "ok",
     "timestamp": 1716643737711,
     "user": {
      "displayName": "Jakub Stępniak",
      "userId": "11233287394226022162"
     },
     "user_tz": -120
    },
    "id": "dUnqRWovaNqX"
   },
   "outputs": [],
   "source": [
    "possible_names = ['test', 'kosorak', 'fifa', 'e_shop', 'BMS1', 'sign', 'microblogPCU']\n",
    "input_sequence_db_name = \"e_shop\"\n",
    "input_sequence_db_name = input_sequence_db_name + \".txt\"\n",
    "\n",
    "min_support = 220\n",
    "max_seq = 1000"
   ]
  },
  {
   "cell_type": "markdown",
   "metadata": {
    "id": "t3sbEs9Dcn_3"
   },
   "source": [
    "## Prepare Paths"
   ]
  },
  {
   "cell_type": "code",
   "execution_count": null,
   "metadata": {
    "executionInfo": {
     "elapsed": 500,
     "status": "ok",
     "timestamp": 1716643738199,
     "user": {
      "displayName": "Jakub Stępniak",
      "userId": "11233287394226022162"
     },
     "user_tz": -120
    },
    "id": "P29BfVfMcnSe"
   },
   "outputs": [],
   "source": [
    "try:\n",
    "  google_base_path = Path(\"/content/gdrive/MyDrive/data/PrefixSpan\").resolve(True)\n",
    "except Exception:\n",
    "  raise Exception(\"You aren't connected to google drive or you don't have mounted folder with data\")\n",
    "possible_sequences_names = [name.name for name in google_base_path.iterdir()]\n",
    "input_sequence_filepath = (google_base_path / input_sequence_db_name).resolve(True)\n",
    "output_base = google_base_path / \"output\"\n",
    "output_base.mkdir(exist_ok=True)\n",
    "output_filepath = output_base / input_sequence_db_name\n",
    "spmf_output_filepath = output_base / f\"spmf_{input_sequence_db_name}\""
   ]
  },
  {
   "cell_type": "markdown",
   "metadata": {},
   "source": [
    "# Plots"
   ]
  },
  {
   "cell_type": "code",
   "execution_count": null,
   "metadata": {},
   "outputs": [],
   "source": [
    "def create_time_plot(sups: list, calc_times: list):\n",
    "    plt.figure(figsize=(8, 6))\n",
    "    plt.plot(sups, calc_times, marker='o')\n",
    "    plt.title(\"Czas wyznaczenia sekwencji spełniających minimalne wsparcie\")\n",
    "    plt.xlabel(\"Minimalne wsparcie\")\n",
    "    plt.ylabel(\"Czas Obliczeń [s]\")\n",
    "    plt.show()"
   ]
  },
  {
   "cell_type": "code",
   "execution_count": null,
   "metadata": {},
   "outputs": [],
   "source": [
    "def create_freq_seq_count_plot(sups: list, seq_counts: list):\n",
    "    plt.figure(figsize=(8, 6))\n",
    "    plt.plot(sups, seq_counts, marker='o')\n",
    "    plt.title(\"Ilość sekwencji spełniających minimalne wsparcie\")\n",
    "    plt.xlabel(\"Minimalne wsparcie\")\n",
    "    plt.ylabel(\"Liczba sekwencji\")\n",
    "    plt.show()"
   ]
  },
  {
   "cell_type": "markdown",
   "metadata": {
    "id": "c5uEwSVmaqEm"
   },
   "source": [
    "# Algorithm"
   ]
  },
  {
   "cell_type": "markdown",
   "metadata": {
    "id": "hx_SSShd9XBC"
   },
   "source": [
    "## utils"
   ]
  },
  {
   "cell_type": "code",
   "execution_count": 1,
   "metadata": {
    "executionInfo": {
     "elapsed": 1,
     "status": "ok",
     "timestamp": 1716646366433,
     "user": {
      "displayName": "Jakub Stępniak",
      "userId": "11233287394226022162"
     },
     "user_tz": -120
    },
    "id": "5Aeqor2U9azr"
   },
   "outputs": [
    {
     "ename": "NameError",
     "evalue": "name 'Path' is not defined",
     "output_type": "error",
     "traceback": [
      "\u001b[0;31m---------------------------------------------------------------------------\u001b[0m",
      "\u001b[0;31mNameError\u001b[0m                                 Traceback (most recent call last)",
      "Cell \u001b[0;32mIn[1], line 1\u001b[0m\n\u001b[0;32m----> 1\u001b[0m \u001b[38;5;28;01mdef\u001b[39;00m \u001b[38;5;21mcalculate_percentage_min_support\u001b[39m(min_support: \u001b[38;5;28mint\u001b[39m, input_filepath: \u001b[43mPath\u001b[49m) \u001b[38;5;241m-\u001b[39m\u001b[38;5;241m>\u001b[39m \u001b[38;5;28mfloat\u001b[39m:\n\u001b[1;32m      2\u001b[0m     seq_length \u001b[38;5;241m=\u001b[39m \u001b[38;5;241m0\u001b[39m\n\u001b[1;32m      3\u001b[0m     \u001b[38;5;28;01mwith\u001b[39;00m \u001b[38;5;28mopen\u001b[39m(input_filepath, \u001b[38;5;124m'\u001b[39m\u001b[38;5;124mr\u001b[39m\u001b[38;5;124m'\u001b[39m) \u001b[38;5;28;01mas\u001b[39;00m file:\n",
      "\u001b[0;31mNameError\u001b[0m: name 'Path' is not defined"
     ]
    }
   ],
   "source": [
    "def calculate_percentage_min_support(min_support: int, input_filepath: Path) -> float:\n",
    "    seq_length = 0\n",
    "    with open(input_filepath, 'r') as file:\n",
    "        for line in file:\n",
    "            seq_length += 1\n",
    "    return min_support / seq_length if seq_length > 0 else 0"
   ]
  },
  {
   "cell_type": "code",
   "execution_count": null,
   "metadata": {},
   "outputs": [],
   "source": [
    "def reduce_size(new_seq_size: int, input_filepath: Path) -> Path:\n",
    "    with open(input_filepath, 'r') as file:\n",
    "        sequences = []\n",
    "        for line in file:\n",
    "            sequences.append(line)\n",
    "    new_file = input_filepath.parent / f\"{new_seq_size}_{input_filepath.name}\"\n",
    "    with open(new_file, \"w\") as file:\n",
    "        file.writelines(sequences[:new_seq_size])\n",
    "    return new_file"
   ]
  },
  {
   "cell_type": "code",
   "execution_count": null,
   "metadata": {
    "executionInfo": {
     "elapsed": 2,
     "status": "ok",
     "timestamp": 1716643738199,
     "user": {
      "displayName": "Jakub Stępniak",
      "userId": "11233287394226022162"
     },
     "user_tz": -120
    },
    "id": "Lvk0l4w-aq9Z"
   },
   "outputs": [],
   "source": [
    "class PrefixSpan:\n",
    "    def __init__(self, input_filepath: Path, output_filepath: Path, min_support: int):\n",
    "        self.input_filepath = input_filepath\n",
    "        self.output_filepath = output_filepath\n",
    "        self.min_support = min_support\n",
    "        self.sequences = self.read_data(input_filepath.as_posix())\n",
    "        self.frequent_patterns = []\n",
    "\n",
    "    @staticmethod\n",
    "    def read_data(filename: str):\n",
    "        with open(filename, 'r') as file:\n",
    "            sequences = []\n",
    "            for line in file:\n",
    "                sequence = [item.split() for item in line.strip().split('-1')[:-1]]\n",
    "                sequences.append(sequence)\n",
    "            return sequences[:max_seq]\n",
    "\n",
    "    def prefix_span(self, prefix, projected_db):\n",
    "        # Count all items and their supports in the projected_db\n",
    "        item_counts = {}\n",
    "        for sequence in projected_db:\n",
    "            found_items = set()\n",
    "            for itemset in sequence:\n",
    "                for item in itemset:\n",
    "                    if item not in found_items:\n",
    "                        if item in item_counts:\n",
    "                            item_counts[item] += 1\n",
    "                        else:\n",
    "                            item_counts[item] = 1\n",
    "                        found_items.add(item)\n",
    "\n",
    "        # Filter items by minimum support and recursively explore extensions\n",
    "        frequent_items = [(item, count) for item, count in item_counts.items() if count >= self.min_support]\n",
    "        for item, _ in sorted(frequent_items, key=lambda x: x[1], reverse=True):\n",
    "            new_prefix = prefix + [item]\n",
    "            self.frequent_patterns.append((new_prefix, item_counts[item]))\n",
    "            suffix_db = self._build_suffix_db(new_prefix, projected_db)\n",
    "            self.prefix_span(new_prefix, suffix_db)\n",
    "\n",
    "    def _build_suffix_db(self, prefix, projected_db):\n",
    "        suffix_db = []\n",
    "        for sequence in projected_db:\n",
    "            for index, itemset in enumerate(sequence):\n",
    "                if prefix[-1] in itemset:\n",
    "                    suffix = []\n",
    "                    for future_index in range(index + 1, len(sequence)):\n",
    "                        suffix.append(sequence[future_index])\n",
    "                    if suffix:\n",
    "                        suffix_db.append(suffix)\n",
    "                    break\n",
    "        return suffix_db\n",
    "\n",
    "    def run(self):\n",
    "        initial_db = [seq for seq in self.sequences]\n",
    "        self.prefix_span([], initial_db)\n",
    "        return self.frequent_patterns\n",
    "\n",
    "    def write_frequent_patterns_to_file(self):\n",
    "        if self.frequent_patterns:\n",
    "          with open(self.output_filepath.as_posix(), 'w') as file:\n",
    "              for pattern, support in self.frequent_patterns:\n",
    "                  file.write(' '.join(pattern) + ' -1 #SUP: ' + str(support) + '\\n')\n",
    "        else:\n",
    "            logger.warning(\"Trying to save output file if there is no frequent found, probably algorithm was not run\")"
   ]
  },
  {
   "cell_type": "markdown",
   "metadata": {
    "id": "KlJuNTNvbE5_"
   },
   "source": [
    "# Experiments"
   ]
  },
  {
   "cell_type": "code",
   "execution_count": null,
   "metadata": {},
   "outputs": [],
   "source": [
    "input_sequence_filepath = reduce_size(max_seq, input_sequence_filepath)"
   ]
  },
  {
   "cell_type": "markdown",
   "metadata": {
    "id": "ZHi4dk91zJgB"
   },
   "source": [
    "# SPMF version"
   ]
  },
  {
   "cell_type": "code",
   "execution_count": null,
   "metadata": {},
   "outputs": [],
   "source": [
    "min_support_perc = calculate_percentage_min_support(min_support, input_sequence_filepath)"
   ]
  },
  {
   "cell_type": "code",
   "execution_count": null,
   "metadata": {
    "colab": {
     "base_uri": "https://localhost:8080/"
    },
    "executionInfo": {
     "elapsed": 2574849,
     "status": "ok",
     "timestamp": 1716646365507,
     "user": {
      "displayName": "Jakub Stępniak",
      "userId": "11233287394226022162"
     },
     "user_tz": -120
    },
    "id": "_EG4RhaKgQKS",
    "outputId": "4f1988c1-bfcf-420c-e9e8-33caea1d3d67"
   },
   "outputs": [],
   "source": [
    "spmf_prefix_span = Spmf(\"PrefixSpan\", input_filename=input_sequence_filepath.as_posix(),\n",
    "            output_filename=spmf_output_filepath.as_posix(), arguments=[min_support_perc])\n",
    "start_time = time.perf_counter()\n",
    "spmf_prefix_span.run()\n",
    "end_time = time.perf_counter()\n",
    "print(f\"Time of smpf prefix time: {end_time - start_time} with min support: {min_support}\")"
   ]
  },
  {
   "cell_type": "markdown",
   "metadata": {},
   "source": [
    "# Custom Version"
   ]
  },
  {
   "cell_type": "code",
   "execution_count": null,
   "metadata": {
    "colab": {
     "base_uri": "https://localhost:8080/",
     "height": 356
    },
    "executionInfo": {
     "elapsed": 647753,
     "status": "error",
     "timestamp": 1716413523245,
     "user": {
      "displayName": "Jakub Stępniak",
      "userId": "11233287394226022162"
     },
     "user_tz": -120
    },
    "id": "n2WMkLV6bF_N",
    "outputId": "29d17742-4bab-4902-f621-3d4482067b0c"
   },
   "outputs": [],
   "source": [
    "prefix_span = PrefixSpan(input_sequence_filepath, output_filepath, min_support)\n",
    "start_time = time.perf_counter()\n",
    "freq_patters = prefix_span.run()\n",
    "end_time = time.perf_counter()\n",
    "print(f\"Time of custom prefix time: {end_time - start_time} with min support: {min_support}, found: {len(freq_patters)} sequences\")\n",
    "prefix_span.write_frequent_patterns_to_file()"
   ]
  },
  {
   "cell_type": "code",
   "execution_count": null,
   "metadata": {},
   "outputs": [],
   "source": [
    "times = []\n",
    "supps = []\n",
    "freq_counts = []\n",
    "for min_sup in range(min_support, 500, 2):\n",
    "    prefix_span = PrefixSpan(input_sequence_filepath, output_filepath, min_sup)\n",
    "    start_time = time.perf_counter()\n",
    "    freq_patters = prefix_span.run()\n",
    "    end_time = time.perf_counter()\n",
    "    print(min_sup, \"DONE\")\n",
    "    supps.append(min_sup)\n",
    "    freq_counts.append(len(freq_patters))\n",
    "    times.append(end_time-start_time)"
   ]
  },
  {
   "cell_type": "markdown",
   "metadata": {
    "id": "TqjCKQVX-3Eg"
   },
   "source": [
    "# Analyse"
   ]
  },
  {
   "cell_type": "code",
   "execution_count": null,
   "metadata": {
    "id": "dCi406-J1z-d"
   },
   "outputs": [],
   "source": [
    "create_freq_seq_count_plot(supps, freq_counts)"
   ]
  },
  {
   "cell_type": "code",
   "execution_count": null,
   "metadata": {},
   "outputs": [],
   "source": [
    "create_time_plot(supps, times)"
   ]
  }
 ],
 "metadata": {
  "colab": {
   "authorship_tag": "ABX9TyPnTpk2I9U76TW5p+09eyj7",
   "provenance": []
  },
  "kernelspec": {
   "display_name": "Python 3 (ipykernel)",
   "language": "python",
   "name": "python3"
  },
  "language_info": {
   "codemirror_mode": {
    "name": "ipython",
    "version": 3
   },
   "file_extension": ".py",
   "mimetype": "text/x-python",
   "name": "python",
   "nbconvert_exporter": "python",
   "pygments_lexer": "ipython3",
   "version": "3.10.12"
  }
 },
 "nbformat": 4,
 "nbformat_minor": 4
}
