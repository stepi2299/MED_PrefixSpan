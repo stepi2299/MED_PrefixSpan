{
 "nbformat": 4,
 "nbformat_minor": 0,
 "metadata": {
  "colab": {
   "provenance": [],
   "authorship_tag": "ABX9TyPnTpk2I9U76TW5p+09eyj7"
  },
  "kernelspec": {
   "name": "python3",
   "display_name": "Python 3"
  },
  "language_info": {
   "name": "python"
  }
 },
 "cells": [
  {
   "cell_type": "markdown",
   "source": [
    "# Connect to Goodle Drive"
   ],
   "metadata": {
    "id": "ns2jQFA9uhI0"
   }
  },
  {
   "cell_type": "code",
   "source": [
    "from google.colab import drive\n",
    "drive.mount(\"/content/gdrive\", force_remount=True)"
   ],
   "metadata": {
    "colab": {
     "base_uri": "https://localhost:8080/"
    },
    "id": "xYZLe3e9uhnJ",
    "executionInfo": {
     "status": "ok",
     "timestamp": 1716643694594,
     "user_tz": -120,
     "elapsed": 25466,
     "user": {
      "displayName": "Jakub Stępniak",
      "userId": "11233287394226022162"
     }
    },
    "outputId": "bf8b1028-2e5d-44b6-e4cc-cf690138ab5a"
   },
   "outputs": [],
   "execution_count": null
  },
  {
   "cell_type": "markdown",
   "source": [
    "# Dependencies"
   ],
   "metadata": {
    "id": "2WB7ybE1aV0_"
   }
  },
  {
   "cell_type": "code",
   "metadata": {
    "id": "D903LSF8aCJB",
    "executionInfo": {
     "status": "ok",
     "timestamp": 1716643737710,
     "user_tz": -120,
     "elapsed": 43120,
     "user": {
      "displayName": "Jakub Stępniak",
      "userId": "11233287394226022162"
     }
    },
    "colab": {
     "base_uri": "https://localhost:8080/"
    },
    "outputId": "44014db0-b794-4ba3-f76a-ec13aabc50f8"
   },
   "source": [
    "!apt-get remove openjdk-* -y\n",
    "!apt-get install openjdk-21-jdk-headless -qq > /dev/null\n",
    "!java -version\n",
    "!pip install spmf\n",
    "\n",
    "from spmf import Spmf\n",
    "import numpy as np\n",
    "from pathlib import Path\n",
    "import logging as lg\n",
    "import os\n",
    "import time\n",
    "\n",
    "if not os.path.exists(\"spmf.jar\"):\n",
    "    !wget http://www.philippe-fournier-viger.com/spmf/spmf.jar"
   ],
   "outputs": [],
   "execution_count": null
  },
  {
   "cell_type": "code",
   "source": [
    "lg.basicConfig(level=lg.INFO, force=True)\n",
    "logger = lg.getLogger(__name__)"
   ],
   "metadata": {
    "id": "NQfuuUnMfHoE",
    "executionInfo": {
     "status": "ok",
     "timestamp": 1716643737711,
     "user_tz": -120,
     "elapsed": 14,
     "user": {
      "displayName": "Jakub Stępniak",
      "userId": "11233287394226022162"
     }
    }
   },
   "outputs": [],
   "execution_count": null
  },
  {
   "cell_type": "markdown",
   "source": [
    "# Prepare Dataset"
   ],
   "metadata": {
    "id": "wx63Aj11dZSh"
   }
  },
  {
   "cell_type": "code",
   "source": [
    "# Download dataset, unpack it and prepare dataset structure, you can check if already exist this folder there with correct input"
   ],
   "metadata": {
    "id": "NFRhZpL1dgjj",
    "executionInfo": {
     "status": "ok",
     "timestamp": 1716643737711,
     "user_tz": -120,
     "elapsed": 12,
     "user": {
      "displayName": "Jakub Stępniak",
      "userId": "11233287394226022162"
     }
    }
   },
   "outputs": [],
   "execution_count": null
  },
  {
   "cell_type": "markdown",
   "source": [
    "# Parameters\n",
    "possible:\n",
    "['test.txt', 'output', '.ipynb_checkpoints', 'kosorak.txt', 'fifa.txt', 'e_shop.txt', 'BMS1.txt', 'sign.txt', 'microblogPCU.txt']\n"
   ],
   "metadata": {
    "id": "Qv2A_Hzzaaqe"
   }
  },
  {
   "cell_type": "code",
   "source": [
    "possible_names = ['test', 'kosorak', 'fifa', 'e_shop', 'BMS1', 'sign', 'microblogPCU']\n",
    "input_sequence_db_name = \"BMS1\" + \".txt\"\n",
    "\n",
    "min_support = 5"
   ],
   "metadata": {
    "id": "dUnqRWovaNqX",
    "executionInfo": {
     "status": "ok",
     "timestamp": 1716643737711,
     "user_tz": -120,
     "elapsed": 12,
     "user": {
      "displayName": "Jakub Stępniak",
      "userId": "11233287394226022162"
     }
    }
   },
   "outputs": [],
   "execution_count": null
  },
  {
   "cell_type": "markdown",
   "source": [
    "## Prepare Paths"
   ],
   "metadata": {
    "id": "t3sbEs9Dcn_3"
   }
  },
  {
   "cell_type": "code",
   "source": [
    "try:\n",
    "  google_base_path = Path(\"/content/gdrive/MyDrive/data/PrefixSpan\").resolve(True)\n",
    "except Exception:\n",
    "  raise Exception(\"You aren't connected to google drive or you don't have mounted folder with data\")\n",
    "possible_sequences_names = [name.name for name in google_base_path.iterdir()]\n",
    "input_sequence_filepath = (google_base_path / input_sequence_db_name).resolve(True)\n",
    "output_base = google_base_path / \"output\"\n",
    "output_base.mkdir(exist_ok=True)\n",
    "output_filepath = output_base / input_sequence_db_name\n",
    "spmf_output_filepath = output_base / f\"spmf_{input_sequence_db_name}\""
   ],
   "metadata": {
    "id": "P29BfVfMcnSe",
    "executionInfo": {
     "status": "ok",
     "timestamp": 1716643738199,
     "user_tz": -120,
     "elapsed": 500,
     "user": {
      "displayName": "Jakub Stępniak",
      "userId": "11233287394226022162"
     }
    }
   },
   "outputs": [],
   "execution_count": null
  },
  {
   "cell_type": "markdown",
   "source": [
    "# Algorithm"
   ],
   "metadata": {
    "id": "c5uEwSVmaqEm"
   }
  },
  {
   "cell_type": "markdown",
   "source": [
    "## utils"
   ],
   "metadata": {
    "id": "hx_SSShd9XBC"
   }
  },
  {
   "cell_type": "code",
   "source": [
    "def calculate_percentage_min_support(min_support: int, input_filepath: Path) -> float:\n",
    "    with open(input_filepath, 'r') as file:\n",
    "        seq_length = len(file)\n",
    "        print(seq_length)\n",
    "        return (min_support * 100) / seq_length if seq_length > 0 else 0"
   ],
   "metadata": {
    "id": "5Aeqor2U9azr",
    "executionInfo": {
     "status": "ok",
     "timestamp": 1716646366433,
     "user_tz": -120,
     "elapsed": 1,
     "user": {
      "displayName": "Jakub Stępniak",
      "userId": "11233287394226022162"
     }
    }
   },
   "outputs": [],
   "execution_count": null
  },
  {
   "cell_type": "code",
   "source": [
    "class PrefixSpan:\n",
    "    def __init__(self, input_filepath: Path, output_filepath: Path, min_support: int):\n",
    "        self.input_filepath = input_filepath\n",
    "        self.output_filepath = output_filepath\n",
    "        self.min_support = min_support\n",
    "        self.sequences = self.read_data(input_filepath.as_posix())\n",
    "        self.frequent_patterns = []\n",
    "\n",
    "    @staticmethod\n",
    "    def read_data(filename: str):\n",
    "        with open(filename, 'r') as file:\n",
    "            sequences = []\n",
    "            for line in file:\n",
    "                sequence = [item.split() for item in line.strip().split('-1')[:-1]]\n",
    "                sequences.append(sequence)\n",
    "            return sequences\n",
    "\n",
    "    def prefix_span(self, prefix, projected_db):\n",
    "        # Count all items and their supports in the projected_db\n",
    "        item_counts = {}\n",
    "        for sequence in projected_db:\n",
    "            found_items = set()\n",
    "            for itemset in sequence:\n",
    "                for item in itemset:\n",
    "                    if item not in found_items:\n",
    "                        if item in item_counts:\n",
    "                            item_counts[item] += 1\n",
    "                        else:\n",
    "                            item_counts[item] = 1\n",
    "                        found_items.add(item)\n",
    "\n",
    "        # Filter items by minimum support and recursively explore extensions\n",
    "        frequent_items = [(item, count) for item, count in item_counts.items() if count >= self.min_support]\n",
    "        for item, _ in sorted(frequent_items, key=lambda x: x[1], reverse=True):\n",
    "            new_prefix = prefix + [item]\n",
    "            self.frequent_patterns.append((new_prefix, item_counts[item]))\n",
    "            suffix_db = self._build_suffix_db(new_prefix, projected_db)\n",
    "            self.prefix_span(new_prefix, suffix_db)\n",
    "\n",
    "    def _build_suffix_db(self, prefix, projected_db):\n",
    "        suffix_db = []\n",
    "        for sequence in projected_db:\n",
    "            for index, itemset in enumerate(sequence):\n",
    "                if prefix[-1] in itemset:\n",
    "                    suffix = []\n",
    "                    for future_index in range(index + 1, len(sequence)):\n",
    "                        suffix.append(sequence[future_index])\n",
    "                    if suffix:\n",
    "                        suffix_db.append(suffix)\n",
    "                    break\n",
    "        return suffix_db\n",
    "\n",
    "    def run(self):\n",
    "        initial_db = [seq for seq in self.sequences]\n",
    "        self.prefix_span([], initial_db)\n",
    "        return self.frequent_patterns\n",
    "\n",
    "    def write_frequent_patterns_to_file(self):\n",
    "        if self.frequent_patterns:\n",
    "          with open(self.output_filepath.as_posix(), 'w') as file:\n",
    "              for pattern, support in self.frequent_patterns:\n",
    "                  file.write(' '.join(pattern) + ' -1 #SUP: ' + str(support) + '\\n')\n",
    "        else:\n",
    "            logger.warning(\"Trying to save outputfile if there is no frequent found, probably algorithm was not run\")"
   ],
   "metadata": {
    "id": "Lvk0l4w-aq9Z",
    "executionInfo": {
     "status": "ok",
     "timestamp": 1716643738199,
     "user_tz": -120,
     "elapsed": 2,
     "user": {
      "displayName": "Jakub Stępniak",
      "userId": "11233287394226022162"
     }
    }
   },
   "outputs": [],
   "execution_count": null
  },
  {
   "cell_type": "markdown",
   "source": [
    "# Experiments"
   ],
   "metadata": {
    "id": "KlJuNTNvbE5_"
   }
  },
  {
   "cell_type": "code",
   "source": [
    "prefix_span = PrefixSpan(input_sequence_filepath, output_filepath, min_support)\n",
    "start_time = time.perf_counter()\n",
    "prefix_span.run()\n",
    "end_time = time.perf_counter()\n",
    "print(f\"Time of custom prefix time: {end_time - start_time} with min support: {min_support}\")\n",
    "prefix_span.write_frequent_patterns_to_file()"
   ],
   "metadata": {
    "colab": {
     "base_uri": "https://localhost:8080/",
     "height": 356
    },
    "id": "n2WMkLV6bF_N",
    "executionInfo": {
     "status": "error",
     "timestamp": 1716413523245,
     "user_tz": -120,
     "elapsed": 647753,
     "user": {
      "displayName": "Jakub Stępniak",
      "userId": "11233287394226022162"
     }
    },
    "outputId": "29d17742-4bab-4902-f621-3d4482067b0c"
   },
   "outputs": [],
   "execution_count": null
  },
  {
   "cell_type": "markdown",
   "source": [
    "# SPMF version"
   ],
   "metadata": {
    "id": "ZHi4dk91zJgB"
   }
  },
  {
   "cell_type": "code",
   "source": [
    "min_support_perc = calculate_percentage_min_support(min_support, input_sequence_filepath)\n",
    "spmf_prefix_span = Spmf(\"PrefixSpan\", input_filename=input_sequence_filepath.as_posix(),\n",
    "            output_filename=spmf_output_filepath.as_posix(), arguments=[min_support_perc])\n",
    "start_time = time.perf_counter()\n",
    "spmf_prefix_span.run()\n",
    "end_time = time.perf_counter()\n",
    "print(f\"Time of custom prefix time: {end_time - start_time} with min support: {min_support}\")"
   ],
   "metadata": {
    "id": "_EG4RhaKgQKS",
    "colab": {
     "base_uri": "https://localhost:8080/"
    },
    "executionInfo": {
     "status": "ok",
     "timestamp": 1716646365507,
     "user_tz": -120,
     "elapsed": 2574849,
     "user": {
      "displayName": "Jakub Stępniak",
      "userId": "11233287394226022162"
     }
    },
    "outputId": "4f1988c1-bfcf-420c-e9e8-33caea1d3d67"
   },
   "outputs": [],
   "execution_count": null
  },
  {
   "cell_type": "markdown",
   "source": [
    "# Analyse"
   ],
   "metadata": {
    "id": "TqjCKQVX-3Eg"
   }
  },
  {
   "cell_type": "code",
   "source": [],
   "metadata": {
    "id": "dCi406-J1z-d"
   },
   "outputs": [],
   "execution_count": null
  }
 ]
}
