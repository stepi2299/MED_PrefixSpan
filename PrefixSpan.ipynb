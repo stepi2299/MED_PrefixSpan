{
 "cells": [
  {
   "cell_type": "markdown",
   "metadata": {
    "id": "2WB7ybE1aV0_"
   },
   "source": [
    "# Dependencies"
   ]
  },
  {
   "cell_type": "code",
   "execution_count": null,
   "metadata": {
    "colab": {
     "base_uri": "https://localhost:8080/"
    },
    "executionInfo": {
     "elapsed": 43120,
     "status": "ok",
     "timestamp": 1716643737710,
     "user": {
      "displayName": "Jakub Stępniak",
      "userId": "11233287394226022162"
     },
     "user_tz": -120
    },
    "id": "D903LSF8aCJB",
    "outputId": "44014db0-b794-4ba3-f76a-ec13aabc50f8"
   },
   "outputs": [],
   "source": [
    "from spmf import Spmf\n",
    "from pathlib import Path\n",
    "import logging as lg\n",
    "import os\n",
    "import time\n",
    "import matplotlib.pyplot as plt"
   ]
  },
  {
   "cell_type": "code",
   "execution_count": null,
   "metadata": {
    "executionInfo": {
     "elapsed": 14,
     "status": "ok",
     "timestamp": 1716643737711,
     "user": {
      "displayName": "Jakub Stępniak",
      "userId": "11233287394226022162"
     },
     "user_tz": -120
    },
    "id": "NQfuuUnMfHoE"
   },
   "outputs": [],
   "source": [
    "lg.basicConfig(level=lg.INFO, force=True)\n",
    "logger = lg.getLogger(__name__)"
   ]
  },
  {
   "cell_type": "markdown",
   "metadata": {
    "id": "Qv2A_Hzzaaqe"
   },
   "source": [
    "# Parameters\n",
    "possible:\n",
    "['test.txt', 'output', '.ipynb_checkpoints', 'kosorak.txt', 'fifa.txt', 'e_shop.txt', 'BMS1.txt', 'sign.txt', 'microblogPCU.txt']\n"
   ]
  },
  {
   "cell_type": "code",
   "execution_count": null,
   "metadata": {
    "executionInfo": {
     "elapsed": 12,
     "status": "ok",
     "timestamp": 1716643737711,
     "user": {
      "displayName": "Jakub Stępniak",
      "userId": "11233287394226022162"
     },
     "user_tz": -120
    },
    "id": "dUnqRWovaNqX"
   },
   "outputs": [],
   "source": [
    "possible_names = ['test', 'kosorak', 'fifa', 'e_shop', 'BMS1', 'sign', 'microblogPCU']\n",
    "input_sequence_db_name = \"e_shop\"\n",
    "input_sequence_db_name = input_sequence_db_name + \".txt\"\n",
    "\n",
    "min_support = 220\n",
    "max_seq = 1000"
   ]
  },
  {
   "cell_type": "markdown",
   "metadata": {
    "id": "t3sbEs9Dcn_3"
   },
   "source": [
    "## Prepare Paths"
   ]
  },
  {
   "cell_type": "code",
   "execution_count": null,
   "metadata": {
    "executionInfo": {
     "elapsed": 500,
     "status": "ok",
     "timestamp": 1716643738199,
     "user": {
      "displayName": "Jakub Stępniak",
      "userId": "11233287394226022162"
     },
     "user_tz": -120
    },
    "id": "P29BfVfMcnSe"
   },
   "outputs": [],
   "source": [
    "try:\n",
    "    base_path = Path(\"data\").resolve(True)\n",
    "except Exception:\n",
    "    raise Exception(\"You don't have data folder in this directory\")\n",
    "possible_sequences_names = [name.name for name in base_path.iterdir()]\n",
    "input_sequence_filepath = (base_path / input_sequence_db_name).resolve(True)\n",
    "output_base = base_path / \"output\"\n",
    "output_base.mkdir(exist_ok=True)\n",
    "output_filepath = output_base / input_sequence_db_name\n",
    "spmf_output_filepath = output_base / f\"spmf_{input_sequence_db_name}\""
   ]
  },
  {
   "cell_type": "markdown",
   "metadata": {},
   "source": [
    "# Plots"
   ]
  },
  {
   "cell_type": "code",
   "execution_count": null,
   "metadata": {},
   "outputs": [],
   "source": [
    "def create_time_plot(sups: list, calc_times: list):\n",
    "    plt.figure(figsize=(8, 6))\n",
    "    plt.plot(sups, calc_times, marker='o')\n",
    "    plt.title(\"Czas wyznaczenia sekwencji spełniających minimalne wsparcie\")\n",
    "    plt.xlabel(\"Minimalne wsparcie\")\n",
    "    plt.ylabel(\"Czas Obliczeń [s]\")\n",
    "    plt.show()"
   ]
  },
  {
   "cell_type": "code",
   "execution_count": null,
   "metadata": {},
   "outputs": [],
   "source": [
    "def create_freq_seq_count_plot(sups: list, seq_counts: list):\n",
    "    plt.figure(figsize=(8, 6))\n",
    "    plt.plot(sups, seq_counts, marker='o')\n",
    "    plt.title(\"Ilość sekwencji spełniających minimalne wsparcie\")\n",
    "    plt.xlabel(\"Minimalne wsparcie\")\n",
    "    plt.ylabel(\"Liczba sekwencji\")\n",
    "    plt.show()"
   ]
  },
  {
   "cell_type": "markdown",
   "metadata": {
    "id": "c5uEwSVmaqEm"
   },
   "source": [
    "# Algorithm"
   ]
  },
  {
   "cell_type": "markdown",
   "metadata": {
    "id": "hx_SSShd9XBC"
   },
   "source": [
    "## utils"
   ]
  },
  {
   "cell_type": "code",
   "execution_count": null,
   "metadata": {
    "id": "5Aeqor2U9azr"
   },
   "outputs": [],
   "source": [
    "def calculate_percentage_min_support(min_support: int, input_filepath: Path) -> float:\n",
    "    seq_length = 0\n",
    "    with open(input_filepath, 'r') as file:\n",
    "        for line in file:\n",
    "            seq_length += 1\n",
    "    return min_support / seq_length if seq_length > 0 else 0"
   ]
  },
  {
   "cell_type": "code",
   "execution_count": null,
   "metadata": {},
   "outputs": [],
   "source": [
    "def reduce_size(new_seq_size: int, input_filepath: Path) -> Path:\n",
    "    with open(input_filepath, 'r') as file:\n",
    "        sequences = []\n",
    "        for line in file:\n",
    "            sequences.append(line)\n",
    "    new_file = input_filepath.parent / f\"{new_seq_size}_{input_filepath.name}\"\n",
    "    with open(new_file, \"w\") as file:\n",
    "        file.writelines(sequences[:new_seq_size])\n",
    "    return new_file"
   ]
  },
  {
   "cell_type": "code",
   "execution_count": null,
   "metadata": {
    "executionInfo": {
     "elapsed": 2,
     "status": "ok",
     "timestamp": 1716643738199,
     "user": {
      "displayName": "Jakub Stępniak",
      "userId": "11233287394226022162"
     },
     "user_tz": -120
    },
    "id": "Lvk0l4w-aq9Z"
   },
   "outputs": [],
   "source": [
    "class PrefixSpan:\n",
    "    def __init__(self, input_filepath: Path, output_filepath: Path, min_support: int):\n",
    "        self.input_filepath = input_filepath\n",
    "        self.output_filepath = output_filepath\n",
    "        self.min_support = min_support\n",
    "        self.sequences = self.read_data(input_filepath.as_posix())\n",
    "        self.frequent_patterns = []\n",
    "\n",
    "    @staticmethod\n",
    "    def read_data(filename: str):\n",
    "        with open(filename, 'r') as file:\n",
    "            sequences = []\n",
    "            for line in file:\n",
    "                sequence = [item.split() for item in line.strip().split('-1')[:-1]]\n",
    "                sequences.append(sequence)\n",
    "            return sequences[:max_seq]\n",
    "\n",
    "    def prefix_span(self, prefix, projected_db):\n",
    "        # Count all items and their supports in the projected_db\n",
    "        item_counts = {}\n",
    "        for sequence in projected_db:\n",
    "            found_items = set()\n",
    "            for itemset in sequence:\n",
    "                for item in itemset:\n",
    "                    if item not in found_items:\n",
    "                        if item in item_counts:\n",
    "                            item_counts[item] += 1\n",
    "                        else:\n",
    "                            item_counts[item] = 1\n",
    "                        found_items.add(item)\n",
    "\n",
    "        # Filter items by minimum support and recursively explore extensions\n",
    "        frequent_items = [(item, count) for item, count in item_counts.items() if count >= self.min_support]\n",
    "        for item, _ in sorted(frequent_items, key=lambda x: x[1], reverse=True):\n",
    "            new_prefix = prefix + [item]\n",
    "            self.frequent_patterns.append((new_prefix, item_counts[item]))\n",
    "            suffix_db = self._build_suffix_db(new_prefix, projected_db)\n",
    "            self.prefix_span(new_prefix, suffix_db)\n",
    "\n",
    "    def _build_suffix_db(self, prefix, projected_db):\n",
    "        suffix_db = []\n",
    "        for sequence in projected_db:\n",
    "            for index, itemset in enumerate(sequence):\n",
    "                if prefix[-1] in itemset:\n",
    "                    suffix = []\n",
    "                    for future_index in range(index + 1, len(sequence)):\n",
    "                        suffix.append(sequence[future_index])\n",
    "                    if suffix:\n",
    "                        suffix_db.append(suffix)\n",
    "                    break\n",
    "        return suffix_db\n",
    "\n",
    "    def run(self):\n",
    "        initial_db = [seq for seq in self.sequences]\n",
    "        self.prefix_span([], initial_db)\n",
    "        return self.frequent_patterns\n",
    "\n",
    "    def write_frequent_patterns_to_file(self):\n",
    "        if self.frequent_patterns:\n",
    "          with open(self.output_filepath.as_posix(), 'w') as file:\n",
    "              for pattern, support in self.frequent_patterns:\n",
    "                  file.write(' '.join(pattern) + ' -1 #SUP: ' + str(support) + '\\n')\n",
    "        else:\n",
    "            logger.warning(\"Trying to save output file if there is no frequent found, probably algorithm was not run\")"
   ]
  },
  {
   "cell_type": "markdown",
   "metadata": {
    "id": "KlJuNTNvbE5_"
   },
   "source": [
    "# Experiments"
   ]
  },
  {
   "cell_type": "code",
   "execution_count": null,
   "metadata": {},
   "outputs": [],
   "source": [
    "input_sequence_filepath = reduce_size(max_seq, input_sequence_filepath)"
   ]
  },
  {
   "cell_type": "markdown",
   "metadata": {
    "id": "ZHi4dk91zJgB"
   },
   "source": [
    "## SPMF version"
   ]
  },
  {
   "cell_type": "code",
   "execution_count": null,
   "metadata": {},
   "outputs": [],
   "source": [
    "min_support_perc = calculate_percentage_min_support(min_support, input_sequence_filepath)"
   ]
  },
  {
   "cell_type": "code",
   "execution_count": null,
   "metadata": {
    "id": "_EG4RhaKgQKS"
   },
   "outputs": [],
   "source": [
    "spmf_prefix_span = Spmf(\"PrefixSpan\", input_filename=input_sequence_filepath.as_posix(),\n",
    "            output_filename=spmf_output_filepath.as_posix(), arguments=[min_support_perc])\n",
    "start_time = time.perf_counter()\n",
    "spmf_prefix_span.run()\n",
    "end_time = time.perf_counter()\n",
    "print(f\"Time of smpf prefix time: {end_time - start_time} with min support: {min_support}\")"
   ]
  },
  {
   "cell_type": "markdown",
   "metadata": {},
   "source": [
    "## Custom implementation"
   ]
  },
  {
   "cell_type": "code",
   "execution_count": null,
   "metadata": {
    "colab": {
     "base_uri": "https://localhost:8080/",
     "height": 356
    },
    "executionInfo": {
     "elapsed": 647753,
     "status": "error",
     "timestamp": 1716413523245,
     "user": {
      "displayName": "Jakub Stępniak",
      "userId": "11233287394226022162"
     },
     "user_tz": -120
    },
    "id": "n2WMkLV6bF_N",
    "outputId": "29d17742-4bab-4902-f621-3d4482067b0c"
   },
   "outputs": [],
   "source": [
    "prefix_span = PrefixSpan(input_sequence_filepath, output_filepath, min_support)\n",
    "start_time = time.perf_counter()\n",
    "freq_patters = prefix_span.run()\n",
    "end_time = time.perf_counter()\n",
    "print(f\"Time of custom prefix time: {end_time - start_time} with min support: {min_support}, found: {len(freq_patters)} sequences\")\n",
    "prefix_span.write_frequent_patterns_to_file()"
   ]
  },
  {
   "cell_type": "code",
   "execution_count": null,
   "metadata": {},
   "outputs": [],
   "source": [
    "times = []\n",
    "supps = []\n",
    "freq_counts = []\n",
    "for min_sup in range(min_support, 500, 2):\n",
    "    prefix_span = PrefixSpan(input_sequence_filepath, output_filepath, min_sup)\n",
    "    start_time = time.perf_counter()\n",
    "    freq_patters = prefix_span.run()\n",
    "    end_time = time.perf_counter()\n",
    "    print(min_sup, \"DONE\")\n",
    "    supps.append(min_sup)\n",
    "    freq_counts.append(len(freq_patters))\n",
    "    times.append(end_time-start_time)"
   ]
  },
  {
   "cell_type": "markdown",
   "metadata": {
    "id": "TqjCKQVX-3Eg"
   },
   "source": [
    "# Analyse"
   ]
  },
  {
   "cell_type": "code",
   "execution_count": null,
   "metadata": {
    "id": "dCi406-J1z-d"
   },
   "outputs": [],
   "source": [
    "create_freq_seq_count_plot(supps, freq_counts)"
   ]
  },
  {
   "cell_type": "code",
   "execution_count": null,
   "metadata": {},
   "outputs": [],
   "source": [
    "create_time_plot(supps, times)"
   ]
  },
  {
   "cell_type": "code",
   "execution_count": null,
   "metadata": {},
   "outputs": [],
   "source": []
  }
 ],
 "metadata": {
  "colab": {
   "authorship_tag": "ABX9TyO4Rxr7d6xWOakMVcOZVRxT",
   "provenance": []
  },
  "kernelspec": {
   "display_name": ".med_venv",
   "language": "python",
   "name": ".med_venv"
  },
  "language_info": {
   "codemirror_mode": {
    "name": "ipython",
    "version": 3
   },
   "file_extension": ".py",
   "mimetype": "text/x-python",
   "name": "python",
   "nbconvert_exporter": "python",
   "pygments_lexer": "ipython3",
   "version": "3.10.12"
  }
 },
 "nbformat": 4,
 "nbformat_minor": 4
}
